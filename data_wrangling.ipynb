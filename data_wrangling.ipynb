{
 "cells": [
  {
   "cell_type": "code",
   "execution_count": 1,
   "id": "3b50771c",
   "metadata": {},
   "outputs": [],
   "source": [
    "import numpy as np\n",
    "import pandas as pd\n",
    "pd.options.mode.chained_assignment = None\n",
    "import matplotlib.pyplot as plt\n",
    "pd.options.mode.chained_assignment = None\n",
    "plt.rcParams['font.sans-serif']=['SimHei']\n",
    "plt.rcParams['axes.unicode_minus'] = False"
   ]
  },
  {
   "cell_type": "code",
   "execution_count": 2,
   "id": "70fd453e",
   "metadata": {},
   "outputs": [],
   "source": [
    "train = pd.read_csv('train.csv',encoding = 'utf-8')\n",
    "test = pd.read_csv('test.csv',encoding = 'utf-8')"
   ]
  },
  {
   "cell_type": "code",
   "execution_count": 3,
   "id": "0388c2dc",
   "metadata": {},
   "outputs": [],
   "source": [
    "train_df =train.copy()\n",
    "train_df = train_df.replace([' -  ','0',0,np.nan],np.nan)"
   ]
  },
  {
   "cell_type": "code",
   "execution_count": 4,
   "id": "972a697c",
   "metadata": {},
   "outputs": [],
   "source": [
    "train_df['总单元'] = train_df['总单元'].fillna(train_df['总单元'].mode()[0])\n",
    "train_df['居住单元'] = train_df['居住单元'].fillna(train_df['居住单元'].mode()[0])\n",
    "train_df['总平方英尺'] = train_df['总平方英尺'].astype('float64')\n",
    "#train_df['土地平方英尺'] = train_df['土地平方英尺'].astype('float64')\n",
    "train_df['总平方英尺'] = train_df['总平方英尺'].fillna(train_df.groupby('居住单元')['总平方英尺'].transform('mean'))\n",
    "#train_df['土地平方英尺'] = train_df['土地平方英尺'].fillna(train_df.groupby('居住单元')['土地平方英尺'].transform('mean'))\n",
    "train_df['总平方英尺'] = train_df['总平方英尺'].fillna(train_df['总平方英尺'].mode()[0])\n",
    "#train_df['土地平方英尺'] = train_df['土地平方英尺'].fillna(train_df['土地平方英尺'].mode()[0])\n",
    "train_df['邮编'] = train_df['邮编'].astype('float64')\n",
    "train_df['邮编'] = train_df['邮编'].fillna(train_df['邮编'].mode()[0])\n",
    "train_df['修建年份'] = train_df['修建年份'].astype('float64')\n",
    "train_df['修建年份'] = train_df['修建年份'].fillna(train_df['修建年份'].mode()[0])\n",
    "train_df['出售价格'] = train_df['出售价格'].astype('float64')\n",
    "train_df['出售价格'] = train_df['出售价格'].fillna(0)\n",
    "#这个公寓号真的是傻逼中的傻逼\n",
    "train_df['公寓号'] = train_df['公寓号'].fillna(train_df['公寓号'].mode()[0])\n",
    "train_df = train_df.drop(train_df[train_df['出售价格'] == 0].index)\n",
    "train_df = train_df.reset_index()"
   ]
  },
  {
   "cell_type": "code",
   "execution_count": 5,
   "id": "743cc721",
   "metadata": {},
   "outputs": [],
   "source": [
    "y = train_df['出售价格']\n",
    "#关于为什么删掉出售日期的解释:解释性很差\n",
    "train_df = train_df.drop(columns=['商业单元','出售价格','土地平方英尺','index','地役权','出售日期'])"
   ]
  },
  {
   "cell_type": "code",
   "execution_count": 6,
   "id": "76b0efe9",
   "metadata": {},
   "outputs": [],
   "source": [
    "num_cols = [i for i in train_df.columns if train_df[i].dtype in ['int64', 'float32','float64']]\n",
    "cat_cols = [i for i in train_df.columns if train_df[i].dtype == 'object']"
   ]
  },
  {
   "cell_type": "code",
   "execution_count": 7,
   "id": "1c0c9587",
   "metadata": {},
   "outputs": [],
   "source": [
    "def target_encoding(target_feature,df):\n",
    "    if len(cat_cols) == 0:\n",
    "        return 'All features are encoded'\n",
    "    target_std = df[target_feature].std()\n",
    "    for col in cat_cols:\n",
    "        encoded_std = df.groupby(col)[target_feature].mean().std()\n",
    "        if target_std < encoded_std:\n",
    "            df[col] = df.groupby(col)[target_feature].transform('mean')\n",
    "            cat_cols.remove(col)\n",
    "            te_cols.append(col)"
   ]
  },
  {
   "cell_type": "code",
   "execution_count": 8,
   "id": "0a09b347",
   "metadata": {},
   "outputs": [],
   "source": [
    "te_cols = []\n",
    "for col in num_cols:\n",
    "    target_encoding(col,train_df)"
   ]
  },
  {
   "cell_type": "code",
   "execution_count": 9,
   "id": "24d6699e",
   "metadata": {},
   "outputs": [],
   "source": [
    "for col in cat_cols:\n",
    "    dummies = pd.get_dummies(train_df[col], prefix = col).astype('int32')\n",
    "    train_df = pd.concat([train_df, dummies], axis = 1)\n",
    "train_df = train_df.drop(columns = cat_cols)"
   ]
  },
  {
   "cell_type": "code",
   "execution_count": 147,
   "id": "35556c88",
   "metadata": {
    "collapsed": true
   },
   "outputs": [
    {
     "name": "stderr",
     "output_type": "stream",
     "text": [
      "D:\\anaconda\\lib\\site-packages\\sklearn\\manifold\\_t_sne.py:790: FutureWarning: The default learning rate in TSNE will change from 200.0 to 'auto' in 1.2.\n",
      "  warnings.warn(\n"
     ]
    },
    {
     "name": "stdout",
     "output_type": "stream",
     "text": [
      "[t-SNE] Computing 91 nearest neighbors...\n",
      "[t-SNE] Indexed 38433 samples in 0.001s...\n",
      "[t-SNE] Computed neighbors for 38433 samples in 17.521s...\n",
      "[t-SNE] Computed conditional probabilities for sample 1000 / 38433\n",
      "[t-SNE] Computed conditional probabilities for sample 2000 / 38433\n",
      "[t-SNE] Computed conditional probabilities for sample 3000 / 38433\n",
      "[t-SNE] Computed conditional probabilities for sample 4000 / 38433\n",
      "[t-SNE] Computed conditional probabilities for sample 5000 / 38433\n",
      "[t-SNE] Computed conditional probabilities for sample 6000 / 38433\n",
      "[t-SNE] Computed conditional probabilities for sample 7000 / 38433\n",
      "[t-SNE] Computed conditional probabilities for sample 8000 / 38433\n",
      "[t-SNE] Computed conditional probabilities for sample 9000 / 38433\n",
      "[t-SNE] Computed conditional probabilities for sample 10000 / 38433\n",
      "[t-SNE] Computed conditional probabilities for sample 11000 / 38433\n",
      "[t-SNE] Computed conditional probabilities for sample 12000 / 38433\n",
      "[t-SNE] Computed conditional probabilities for sample 13000 / 38433\n",
      "[t-SNE] Computed conditional probabilities for sample 14000 / 38433\n",
      "[t-SNE] Computed conditional probabilities for sample 15000 / 38433\n",
      "[t-SNE] Computed conditional probabilities for sample 16000 / 38433\n",
      "[t-SNE] Computed conditional probabilities for sample 17000 / 38433\n",
      "[t-SNE] Computed conditional probabilities for sample 18000 / 38433\n",
      "[t-SNE] Computed conditional probabilities for sample 19000 / 38433\n",
      "[t-SNE] Computed conditional probabilities for sample 20000 / 38433\n",
      "[t-SNE] Computed conditional probabilities for sample 21000 / 38433\n",
      "[t-SNE] Computed conditional probabilities for sample 22000 / 38433\n",
      "[t-SNE] Computed conditional probabilities for sample 23000 / 38433\n",
      "[t-SNE] Computed conditional probabilities for sample 24000 / 38433\n",
      "[t-SNE] Computed conditional probabilities for sample 25000 / 38433\n",
      "[t-SNE] Computed conditional probabilities for sample 26000 / 38433\n",
      "[t-SNE] Computed conditional probabilities for sample 27000 / 38433\n",
      "[t-SNE] Computed conditional probabilities for sample 28000 / 38433\n",
      "[t-SNE] Computed conditional probabilities for sample 29000 / 38433\n",
      "[t-SNE] Computed conditional probabilities for sample 30000 / 38433\n",
      "[t-SNE] Computed conditional probabilities for sample 31000 / 38433\n",
      "[t-SNE] Computed conditional probabilities for sample 32000 / 38433\n",
      "[t-SNE] Computed conditional probabilities for sample 33000 / 38433\n",
      "[t-SNE] Computed conditional probabilities for sample 34000 / 38433\n",
      "[t-SNE] Computed conditional probabilities for sample 35000 / 38433\n",
      "[t-SNE] Computed conditional probabilities for sample 36000 / 38433\n",
      "[t-SNE] Computed conditional probabilities for sample 37000 / 38433\n",
      "[t-SNE] Computed conditional probabilities for sample 38000 / 38433\n",
      "[t-SNE] Computed conditional probabilities for sample 38433 / 38433\n",
      "[t-SNE] Mean sigma: 0.000000\n",
      "[t-SNE] Computed conditional probabilities in 1.722s\n"
     ]
    },
    {
     "name": "stderr",
     "output_type": "stream",
     "text": [
      "D:\\anaconda\\lib\\site-packages\\sklearn\\manifold\\_t_sne.py:982: FutureWarning: The PCA initialization in TSNE will change to have the standard deviation of PC1 equal to 1e-4 in 1.2. This will ensure better convergence.\n",
      "  warnings.warn(\n"
     ]
    },
    {
     "name": "stdout",
     "output_type": "stream",
     "text": [
      "[t-SNE] Iteration 50: error = 86.5866623, gradient norm = 0.0048625 (50 iterations in 75.258s)\n",
      "[t-SNE] Iteration 100: error = 86.0535431, gradient norm = 0.0041355 (50 iterations in 73.790s)\n",
      "[t-SNE] Iteration 150: error = 85.2531128, gradient norm = 0.0035535 (50 iterations in 69.627s)\n",
      "[t-SNE] Iteration 200: error = 84.3229294, gradient norm = 0.0036715 (50 iterations in 67.976s)\n",
      "[t-SNE] Iteration 250: error = 83.2734680, gradient norm = 0.0029990 (50 iterations in 64.403s)\n",
      "[t-SNE] KL divergence after 250 iterations with early exaggeration: 83.273468\n",
      "[t-SNE] Iteration 300: error = 3.5947804, gradient norm = 0.0014098 (50 iterations in 66.196s)\n",
      "[t-SNE] Iteration 350: error = 3.1793756, gradient norm = 0.0006925 (50 iterations in 67.135s)\n",
      "[t-SNE] Iteration 400: error = 2.9661782, gradient norm = 0.0004146 (50 iterations in 71.120s)\n",
      "[t-SNE] Iteration 450: error = 2.8128953, gradient norm = 0.0003404 (50 iterations in 73.378s)\n",
      "[t-SNE] Iteration 500: error = 2.6957457, gradient norm = 0.0003341 (50 iterations in 72.714s)\n",
      "[t-SNE] Iteration 550: error = 2.5954142, gradient norm = 0.0002434 (50 iterations in 71.939s)\n",
      "[t-SNE] Iteration 600: error = 2.5116701, gradient norm = 0.0002056 (50 iterations in 71.036s)\n",
      "[t-SNE] Iteration 650: error = 2.4425797, gradient norm = 0.0001841 (50 iterations in 73.543s)\n",
      "[t-SNE] Iteration 700: error = 2.3754454, gradient norm = 0.0004680 (50 iterations in 82.912s)\n",
      "[t-SNE] Iteration 750: error = 2.3177812, gradient norm = 0.0001539 (50 iterations in 74.817s)\n",
      "[t-SNE] Iteration 800: error = 2.2677352, gradient norm = 0.0002319 (50 iterations in 74.313s)\n",
      "[t-SNE] Iteration 850: error = 2.2155688, gradient norm = 0.0001810 (50 iterations in 80.298s)\n",
      "[t-SNE] Iteration 900: error = 2.1689498, gradient norm = 0.0001785 (50 iterations in 75.726s)\n",
      "[t-SNE] Iteration 950: error = 2.1258016, gradient norm = 0.0001260 (50 iterations in 74.301s)\n",
      "[t-SNE] Iteration 1000: error = 2.0839715, gradient norm = 0.0001029 (50 iterations in 77.103s)\n",
      "[t-SNE] KL divergence after 1000 iterations: 2.083972\n"
     ]
    }
   ],
   "source": [
    "from sklearn import manifold\n",
    "X_tsne = manifold.TSNE(n_components=2,random_state=42,verbose = 2,init='pca').fit_transform(train_df)"
   ]
  },
  {
   "cell_type": "code",
   "execution_count": 148,
   "id": "57bf612f",
   "metadata": {
    "scrolled": false
   },
   "outputs": [
    {
     "data": {
      "image/png": "[encoded data removed]",
      "text/plain": [
       "<Figure size 936x720 with 2 Axes>"
      ]
     },
     "metadata": {
      "needs_background": "light"
     },
     "output_type": "display_data"
    }
   ],
   "source": [
    "plt.figure(figsize=(13,10))\n",
    "plt.scatter(X_tsne[:, 0], X_tsne[:, 1], c=y, cmap=\"jet\")\n",
    "plt.axis('off')\n",
    "plt.colorbar()\n",
    "plt.show()\n",
    "#全都堆在一起了，和pca完全是一个结果 可以用shap看到更加具体的特征的影响，"
   ]
  },
  {
   "cell_type": "code",
   "execution_count": 10,
   "id": "77cbe106",
   "metadata": {},
   "outputs": [],
   "source": [
    "from sklearn.model_selection import train_test_split\n",
    "\n",
    "X_train, X_test, y_train, y_test = train_test_split(train_df, y, test_size=0.2, random_state= 42 )"
   ]
  },
  {
   "cell_type": "code",
   "execution_count": 11,
   "id": "2f17f2a0",
   "metadata": {},
   "outputs": [],
   "source": [
    "#标准化办法\n",
    "from sklearn.preprocessing import StandardScaler\n",
    "sc = StandardScaler()\n",
    "X_train = sc.fit_transform(X_train)\n",
    "X_test = sc.transform(X_test)"
   ]
  },
  {
   "cell_type": "code",
   "execution_count": 12,
   "id": "55a15b03",
   "metadata": {},
   "outputs": [],
   "source": [
    "from sklearn.decomposition import PCA\n",
    "\n",
    "pca = PCA(n_components=10)\n",
    "X_train = pca.fit_transform(X_train)\n",
    "X_test = pca.transform(X_test)"
   ]
  },
  {
   "cell_type": "code",
   "execution_count": 13,
   "id": "0fb67abd",
   "metadata": {},
   "outputs": [],
   "source": [
    "def plot_variance(pca, width = 8, dpi = 100):\n",
    "    #create figure\n",
    "    fig, axs = plt.subplots(1, 2)\n",
    "    n = pca.n_components_\n",
    "    grid = np.arange(1, n + 1)\n",
    "    #Explained variance\n",
    "    evr = pca.explained_variance_ratio_\n",
    "    axs[0].bar(grid, evr)\n",
    "    axs[0].set(xlabel = 'Component', title = '% Explained Variance', ylim = (0.0, 1.0))\n",
    "    #Cumulative Variance\n",
    "    cv = np.cumsum(evr)\n",
    "    axs[1].plot(np.r_[0, grid], np.r_[0, cv], 'o-')\n",
    "    axs[1].set(xlabel = 'Component', title = '% Cumulative Variance', ylim = (0.0, 1.0))\n",
    "    #Set Up Figure\n",
    "    fig.set(figwidth = 12, dpi = 100)\n",
    "    return axs"
   ]
  },
  {
   "cell_type": "code",
   "execution_count": 14,
   "id": "e97a4144",
   "metadata": {
    "scrolled": false
   },
   "outputs": [
    {
     "data": {
      "image/png": "[encoded data removed]",
      "text/plain": [
       "<Figure size 1200x400 with 2 Axes>"
      ]
     },
     "metadata": {
      "needs_background": "light"
     },
     "output_type": "display_data"
    }
   ],
   "source": [
    "plot_variance(pca)\n",
    "plt.show()"
   ]
  },
  {
   "cell_type": "code",
   "execution_count": 13,
   "id": "c9eb4838",
   "metadata": {},
   "outputs": [],
   "source": [
    "from sklearn.ensemble import RandomForestRegressor\n",
    "import sklearn.metrics as metrics\n",
    "import shap"
   ]
  },
  {
   "cell_type": "code",
   "execution_count": 15,
   "id": "6f5786cb",
   "metadata": {},
   "outputs": [],
   "source": [
    "rfr = RandomForestRegressor(n_estimators= 110, random_state = 0)\n",
    "rfr.fit(X_train,y_train)\n",
    "y_pred = rfr.predict(X_test)"
   ]
  },
  {
   "cell_type": "code",
   "execution_count": 16,
   "id": "9808e340",
   "metadata": {},
   "outputs": [
    {
     "name": "stdout",
     "output_type": "stream",
     "text": [
      "RMSE: 4729399.907311081\n"
     ]
    }
   ],
   "source": [
    "print(\"RMSE:\",metrics.mean_squared_error(y_test, y_pred)**0.5)"
   ]
  },
  {
   "cell_type": "code",
   "execution_count": null,
   "id": "62ea196f",
   "metadata": {},
   "outputs": [],
   "source": [
    "X = train_df[num_cols].copy()\n",
    "shap_df = pd.concat([train_df, X], axis = 1)\n",
    "X_shap, X_val, y_shap, y_val = train_test_split(shap_df, y, train_size = 0.8, random_state = 0)\n",
    "shap_model = RandomForestRegressor(random_state = 0).fit(X_shap, y_shap)\n",
    "explainer = shap.TreeExplainer(shap_model)\n",
    "shap_values = explainer.shap_values(X_val)"
   ]
  },
  {
   "cell_type": "code",
   "execution_count": null,
   "id": "0328baec",
   "metadata": {},
   "outputs": [],
   "source": [
    "shap.summary_plot(shap_values, X_val, plot_size = (16, 8))"
   ]
  },
  {
   "cell_type": "code",
   "execution_count": 110,
   "id": "b1a35dfe",
   "metadata": {},
   "outputs": [],
   "source": [
    "#得到结果\n",
    "test_df = test.copy()\n",
    "test_df = test_df.replace([' -  ',' -  ','0',0,np.nan],np.nan)\n",
    "missing = train_df.isnull().sum()[train_df.isnull().sum() > 0]\n",
    "missing_df = pd.DataFrame({'NaN_count': missing, 'NaN_percentage': missing / len(train_df)}).sort_values(by = 'NaN_percentage', ascending = False)"
   ]
  },
  {
   "cell_type": "code",
   "execution_count": 111,
   "id": "9f7cdea7",
   "metadata": {},
   "outputs": [],
   "source": [
    "test_df['总单元'] = test_df['总单元'].fillna(test_df['总单元'].mode()[0])\n",
    "test_df['居住单元'] = test_df['居住单元'].fillna(test_df['居住单元'].mode()[0])\n",
    "test_df['总平方英尺'] = test_df['总平方英尺'].astype('float64')\n",
    "#test_df['土地平方英尺'] = test_df['土地平方英尺'].astype('float64')\n",
    "test_df['总平方英尺'] = test_df['总平方英尺'].fillna(test_df.groupby('居住单元')['总平方英尺'].transform('mean'))\n",
    "#test_df['土地平方英尺'] = test_df['土地平方英尺'].fillna(test_df.groupby('居住单元')['土地平方英尺'].transform('mean'))\n",
    "test_df['总平方英尺'] = test_df['总平方英尺'].fillna(test_df['总平方英尺'].mode()[0])\n",
    "#test_df['土地平方英尺'] = test_df['土地平方英尺'].fillna(test_df['土地平方英尺'].mode()[0])\n",
    "test_df['邮编'] = test_df['邮编'].astype('float64')\n",
    "test_df['邮编'] = test_df['邮编'].fillna(test_df['邮编'].mode()[0])\n",
    "test_df['修建年份'] = test_df['修建年份'].astype('float64')\n",
    "test_df['修建年份'] = test_df['修建年份'].fillna(test_df['修建年份'].mode()[0])\n",
    "#这个公寓号真的是傻逼中的傻逼\n",
    "test_df['公寓号'] = test_df['公寓号'].fillna(test_df['公寓号'].mode()[0])\n",
    "test_df = test_df.reset_index()"
   ]
  },
  {
   "cell_type": "code",
   "execution_count": 112,
   "id": "c50ecdd3",
   "metadata": {},
   "outputs": [],
   "source": [
    "test_df = test_df.drop(columns=['商业单元','土地平方英尺','index','地役权'])\n",
    "num_cols = [i for i in test_df.columns if test_df[i].dtype in ['int64', 'float32','float64']]\n",
    "cat_cols = [i for i in test_df.columns if test_df[i].dtype == 'object']"
   ]
  },
  {
   "cell_type": "code",
   "execution_count": 113,
   "id": "0dae7100",
   "metadata": {},
   "outputs": [],
   "source": [
    "te_cols = []\n",
    "for col in num_cols:\n",
    "    target_encoding(col,test_df)"
   ]
  },
  {
   "cell_type": "code",
   "execution_count": 114,
   "id": "c059ce0a",
   "metadata": {},
   "outputs": [],
   "source": [
    "for col in cat_cols:\n",
    "    dummies = pd.get_dummies(test_df[col], prefix = col).astype('int32')\n",
    "    test_df = pd.concat([test_df, dummies], axis = 1)\n",
    "test_df = test_df.drop(columns = cat_cols)"
   ]
  },
  {
   "cell_type": "code",
   "execution_count": 115,
   "id": "8f50f47a",
   "metadata": {},
   "outputs": [],
   "source": [
    "X_pre = test_df.copy()\n",
    "X_pre = sc.fit_transform(X_pre)\n",
    "X_pre = pca.fit_transform(X_pre)"
   ]
  },
  {
   "cell_type": "code",
   "execution_count": 116,
   "id": "20f0e66f",
   "metadata": {},
   "outputs": [],
   "source": [
    "y_pre = rfr.predict(X_pre)"
   ]
  },
  {
   "cell_type": "code",
   "execution_count": 117,
   "id": "fda358c0",
   "metadata": {},
   "outputs": [],
   "source": [
    "df = pd.DataFrame(y_pre)\n",
    "df.to_csv('myfile.csv')"
   ]
  }
 ],
 "metadata": {
  "kernelspec": {
   "display_name": "Python 3 (ipykernel)",
   "language": "python",
   "name": "python3"
  },
  "language_info": {
   "codemirror_mode": {
    "name": "ipython",
    "version": 3
   },
   "file_extension": ".py",
   "mimetype": "text/x-python",
   "name": "python",
   "nbconvert_exporter": "python",
   "pygments_lexer": "ipython3",
   "version": "3.9.12"
  }
 },
 "nbformat": 4,
 "nbformat_minor": 5
}
